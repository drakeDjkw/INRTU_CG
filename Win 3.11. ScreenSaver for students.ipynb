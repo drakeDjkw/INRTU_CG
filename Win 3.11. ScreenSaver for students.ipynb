{
 "cells": [
  {
   "cell_type": "markdown",
   "metadata": {},
   "source": [
    "# Win 3.11 ScreenSaver implementation\n",
    "\n",
    "In this lab, you will recreate the Windows 3.11 screen saver using Python and the pygame library.\n",
    "\n",
    "During the work you will:\n",
    "1) Set up the environment for correct operation\n",
    "2) Implement all the necessary functions so that the algorithm works at a basic level\n",
    "3) Add some “unique feature” of your choice, which will highlight your work among others and show that you really understand the principle of work\n",
    "4) Prepare the README.md file as a laboratory report and get a good grade.\n",
    "\n",
    "As mentioned above, for your convenience, the problem is decomposed into functions. After each function there are a series of checks that will tell you whether you are working in the right direction.\n",
    "\n",
    "Do not modify the code outside the specified locations. This may lead to instability and errors. Good luck!\n",
    "\n",
    "P.S. If you find any mistake - please notify me"
   ]
  },
  {
   "cell_type": "markdown",
   "metadata": {},
   "source": [
    "## Install all dependencies \n",
    "\n",
    "In this section I'd like you to create a virtual environment and install all the packages. This step is optional, but I'm sure it's a good practice to use virtual environments to work with code properly. If you have never work with them, refer to [this link](https://docs.python.org/3/library/venv.html) \n",
    "\n",
    "You can create the environment using this command \n",
    "```console\n",
    "python -m venv {THE_NAME_OF_YOUR_VENV_HERE} \n",
    "```"
   ]
  },
  {
   "cell_type": "markdown",
   "metadata": {},
   "source": [
    "To activate the virtual environment (venv) you have to run via cmd\n",
    "\n",
    "```console\n",
    "\\venv\\Scripts\\activate\n",
    "```\n",
    "\n",
    "Then you can install all the necessary libraries from requirements.txt \n",
    "```console\n",
    "pip install -r requirements.txt\n",
    "```"
   ]
  },
  {
   "cell_type": "markdown",
   "metadata": {},
   "source": [
    "## Create the base game cycle \n",
    "\n",
    "For your animation to work, it must be created inside a special \"game loop\". Now we will try to create such a loop to check that all libraries are installed correctly and you can start working on the laboratory work. Follow the instructions in the code comments below."
   ]
  },
  {
   "cell_type": "code",
   "execution_count": 3,
   "metadata": {},
   "outputs": [
    {
     "name": "stdout",
     "output_type": "stream",
     "text": [
      "Collecting pygame\n",
      "  Downloading pygame-2.6.1-cp311-cp311-win_amd64.whl (10.6 MB)\n",
      "     --------------------------------------- 10.6/10.6 MB 13.6 MB/s eta 0:00:00\n",
      "Installing collected packages: pygame\n",
      "Successfully installed pygame-2.6.1\n"
     ]
    },
    {
     "name": "stderr",
     "output_type": "stream",
     "text": [
      "\n",
      "[notice] A new release of pip available: 22.3.1 -> 25.0.1\n",
      "[notice] To update, run: python.exe -m pip install --upgrade pip\n"
     ]
    }
   ],
   "source": [
    "!pip install pygame "
   ]
  },
  {
   "cell_type": "code",
   "execution_count": 1,
   "metadata": {},
   "outputs": [
    {
     "name": "stdout",
     "output_type": "stream",
     "text": [
      "pygame 2.6.1 (SDL 2.28.4, Python 3.11.2)\n",
      "Hello from the pygame community. https://www.pygame.org/contribute.html\n"
     ]
    }
   ],
   "source": [
    "import pygame\n",
    "\n",
    "# Set the dimensions of the screen\n",
    "screen_height = screen_width = 800  # You can change this value to your desired width\n",
    "# You can change this value to your desired height\n",
    "\n",
    "# Initialize Pygame\n",
    "pygame.init()\n",
    "\n",
    "# Create the game screen\n",
    "screen = pygame.display.set_mode((screen_width, screen_height))\n",
    "pygame.display.set_caption(\"My Pygame Window\")  # Set the window title\n",
    "\n",
    "# Variable to track if the game is done\n",
    "done = False\n",
    "\n",
    "# The game loop\n",
    "while not done:\n",
    "    for event in pygame.event.get():\n",
    "        if event.type == pygame.QUIT:\n",
    "            done = True\n",
    "\n",
    "    # Fill the screen with a color (optional)\n",
    "    screen.fill((0, 0, 0))  # Fill the screen with black\n",
    "\n",
    "    # Update the display\n",
    "    pygame.display.flip()\n",
    "\n",
    "# Quit Pygame\n",
    "pygame.quit()"
   ]
  },
  {
   "cell_type": "markdown",
   "metadata": {},
   "source": [
    "If you have seen a black screen, everything is fine than! We can move forward and try to complete the task\n",
    "\n",
    "Before we move on to writing the functions of the main program loop, we need to decide on the data structures and representation of our objects, since they must be created before the game loop begins.\n",
    "\n",
    "Our task will be as follows. Before creating a game loop, you need to ask:\n",
    "1) An object (structure) in which the created stars will be stored\n",
    "2) An object that will store information about each created star\n",
    "3) A constant that determines the maximum number of stars\n",
    "4) A constant (or not a constant, in case you want to come up with something creative) that sets the speed of the stars (that is, the change in its coordinates per animation frame)\n",
    "\n",
    "Your task is to think about which data structures are best to choose for each task and justify your choice. Follow the comments on the code block below."
   ]
  },
  {
   "cell_type": "code",
   "execution_count": 2,
   "metadata": {},
   "outputs": [
    {
     "data": {
      "text/plain": [
       "'↑↑↑ YOUR CODE HERE ↑↑↑'"
      ]
     },
     "execution_count": 2,
     "metadata": {},
     "output_type": "execute_result"
    }
   ],
   "source": [
    "'''↓↓↓ YOUR CODE HERE ↓↓↓'''\n",
    "import pygame\n",
    "import random\n",
    "\n",
    "# Constants\n",
    "MAX_STARS = 100  # Maximum number of stars\n",
    "STAR_SPEED = 10   # Speed of the stars (change in coordinates per frame)\n",
    "\n",
    "# Star class to represent each star\n",
    "class Star:\n",
    "    def __init__(self, x, y):\n",
    "        self.x = x  # X coordinate\n",
    "        self.y = y  # Y coordinate\n",
    "        self.size = random.randint(2, 5)  # Random size for the star\n",
    "\n",
    "    def move(self):\n",
    "        self.y += STAR_SPEED  # Move the star down the screen\n",
    "        if self.y > screen_height:  # Reset star position if it goes off screen\n",
    "            self.y = 0\n",
    "            self.x = random.randint(0, screen_width)  # Randomize x position\n",
    "\n",
    "    def draw(self, surface):\n",
    "        pygame.draw.circle(surface, (255, 255, 255), (self.x, self.y), self.size)  # Draw the star\n",
    "\n",
    "# List to store stars\n",
    "stars = []\n",
    "\n",
    "# Create stars\n",
    "for _ in range(MAX_STARS):\n",
    "    x = random.randint(0, screen_width)\n",
    "    y = random.randint(0, screen_height)\n",
    "    stars.append(Star(x, y))\n",
    "\n",
    "# Initialize Pygame\n",
    "pygame.init()\n",
    "screen = pygame.display.set_mode((800, 600))\n",
    "pygame.display.set_caption(\"Star Animation\")\n",
    "\n",
    "# Main game loop\n",
    "done = False\n",
    "while not done:\n",
    "    for event in pygame.event.get():\n",
    "        if event.type == pygame.QUIT:\n",
    "            done = True\n",
    "\n",
    "    # Fill the screen with black\n",
    "    screen.fill((0, 0, 0))\n",
    "\n",
    "    # Update and draw stars\n",
    "    for star in stars:\n",
    "        star.move()  # Move the star\n",
    "        star.draw(screen)  # Draw the star\n",
    "\n",
    "    # Update the display\n",
    "    pygame.display.flip()\n",
    "\n",
    "# Quit Pygame\n",
    "pygame.quit()\n",
    "'''↑↑↑ YOUR CODE HERE ↑↑↑'''"
   ]
  },
  {
   "cell_type": "markdown",
   "metadata": {},
   "source": [
    "### Justification \n",
    "\n",
    "Justify you choices in this cell"
   ]
  },
  {
   "cell_type": "markdown",
   "metadata": {},
   "source": [
    "Great! I'm sure you did it. Now let's write a function to create a star. As we stated earlier, each star consists of an X-coordinate, a Y-coordinate, a Z-distance (distance to the star), and a color.\n",
    "\n",
    "We will use the random module so that the new star is generated at random coordinates within some starting “field”. The Z distance will always be equal to 256 (the maximum distance of the star from us). The initial color is 0, so that the brightness of the star increases as it approaches us.\n",
    "\n",
    "When writing a function, you need to know that the center of coordinates in pygame is in the top left corner of the window, so be sure to take this fact into account when creating the star. For convenience, our “reduced” coordinate center will be placed at the center of the screen, that is, the coordinates should have coordinates in the intervals \n",
    "\n",
    "(- screen width // 2 : + screen width // 2, - screen height // 2, + screen height // 2)"
   ]
  },
  {
   "cell_type": "code",
   "execution_count": null,
   "metadata": {},
   "outputs": [],
   "source": [
    "import pygame\n",
    "import random\n",
    "# Constants\n",
    "MAX_STARS = 100  # Maximum number of stars\n",
    "STAR_SPEED = 2   # Speed of the stars (change in coordinates per frame)\n",
    "Z_DISTANCE = 256  # Fixed distance to the star\n",
    "\n",
    "# Star class to represent each star\n",
    "class Star:\n",
    "    def __init__(self, x, y, z, color):\n",
    "        self.x = x  # X coordinate\n",
    "        self.y = y  # Y coordinate\n",
    "        self.z = z  # Z distance\n",
    "        self.color = color  # Brightness of the star\n",
    "\n",
    "    def move(self):\n",
    "        self.y += STAR_SPEED  # Move the star down the screen\n",
    "        if self.y > screen_height // 2:  # Reset star position if it goes off screen\n",
    "            self.y = -screen_height // 2  # Reset to the top\n",
    "            self.x = random.randint(-screen_width // 2, screen_width // 2)  # Randomize x position\n",
    "\n",
    "    def draw(self, surface):\n",
    "        # Calculate brightness based on Z distance\n",
    "        brightness = min(255, int(255 * (1 - (self.z / Z_DISTANCE))))\n",
    "        color = (brightness, brightness, brightness)  # Grayscale color based on brightness\n",
    "        pygame.draw.circle(surface, color, (self.x + screen_width // 2, self.y + screen_height // 2), 2)  # Draw the star\n",
    "\n",
    "def create_star():\n",
    "    # Generate random coordinates within the specified range\n",
    "    x = random.randint(-screen_width // 2, screen_width // 2)\n",
    "    y = random.randint(-screen_height // 2, screen_height // 2)\n",
    "    z = Z_DISTANCE  # Fixed Z distance\n",
    "    color = 0  # Initial color (brightness)\n",
    "    return Star(x, y, z, color)\n",
    "\n",
    "# Initialize Pygame\n",
    "pygame.init()\n",
    "screen_height = screen_width = 800\n",
    "screen = pygame.display.set_mode((screen_width, screen_height))\n",
    "pygame.display.set_caption(\"Star Animation\")\n",
    "\n",
    "# List to store stars\n",
    "stars = [create_star() for _ in range(MAX_STARS)]\n",
    "\n",
    "# Main game loop\n",
    "done = False\n",
    "while not done:\n",
    "    for event in pygame.event.get():\n",
    "        if event.type == pygame.QUIT:\n",
    "            done = True\n",
    "\n",
    "    # Fill the screen with black\n",
    "    screen.fill((0, 0, 0))\n",
    "\n",
    "    # Update and draw stars\n",
    "    for star in stars:\n",
    "        star.move()  # Move the star\n",
    "        star.draw(screen)  # Draw the star\n",
    "\n",
    "    # Update the display\n",
    "    pygame.display.flip()\n",
    "\n",
    "# Quit Pygame\n",
    "pygame.quit()"
   ]
  },
  {
   "cell_type": "markdown",
   "metadata": {},
   "source": [
    "Let's generate some starts and see whether they are OK or not"
   ]
  },
  {
   "cell_type": "code",
   "execution_count": null,
   "metadata": {},
   "outputs": [
    {
     "name": "stdout",
     "output_type": "stream",
     "text": [
      "pygame 2.6.1 (SDL 2.28.4, Python 3.11.2)\n",
      "Hello from the pygame community. https://www.pygame.org/contribute.html\n",
      "Seems fine, good job!\n"
     ]
    },
    {
     "ename": "",
     "evalue": "",
     "output_type": "error",
     "traceback": [
      "\u001b[1;31mThe Kernel crashed while executing code in the current cell or a previous cell. \n",
      "\u001b[1;31mPlease review the code in the cell(s) to identify a possible cause of the failure. \n",
      "\u001b[1;31mClick <a href='https://aka.ms/vscodeJupyterKernelCrash'>here</a> for more info. \n",
      "\u001b[1;31mView Jupyter <a href='command:jupyter.viewOutput'>log</a> for further details."
     ]
    }
   ],
   "source": [
    "# Tests. Run for check the function \n",
    "import pygame\n",
    "import random\n",
    "\n",
    "# Constants\n",
    "MAX_STARS = 100  # Maximum number of stars\n",
    "STAR_SPEED = 2   # Speed of the stars (change in coordinates per frame)\n",
    "Z_DISTANCE = 256  # Fixed distance to the star\n",
    "\n",
    "# Star class to represent each star\n",
    "class Star:\n",
    "    def __init__(self, x, y, z, color):\n",
    "        self.x = x  # X coordinate\n",
    "        self.y = y  # Y coordinate\n",
    "        self.z = z  # Z distance\n",
    "        self.color = color  # Brightness of the star\n",
    "\n",
    "    def move(self):\n",
    "        self.y += STAR_SPEED  # Move the star down the screen\n",
    "        if self.y > screen_height // 2:  # Reset star position if it goes off screen\n",
    "            self.y = -screen_height // 2  # Reset to the top\n",
    "            self.x = random.randint(-screen_width // 2, screen_width // 2)  # Randomize x position\n",
    "\n",
    "    def draw(self, surface):\n",
    "        # Calculate brightness based on Z distance\n",
    "        brightness = min(255, int(255 * (1 - (self.z / Z_DISTANCE))))\n",
    "        color = (brightness, brightness, brightness)  # Grayscale color based on brightness\n",
    "        pygame.draw.circle(surface, color, (self.x + screen_width // 2, self.y + screen_height // 2), 2)  # Draw the star\n",
    "\n",
    "def create_star():\n",
    "    # Generate random coordinates within the specified range\n",
    "    x = random.randint(-screen_width // 2, screen_width // 2)\n",
    "    y = random.randint(-screen_height // 2, screen_height // 2)\n",
    "    z = Z_DISTANCE  # Fixed Z distance\n",
    "    color = 0  # Initial color (brightness)\n",
    "    return (x, y, z, color)  # Return as a tuple\n",
    "\n",
    "# Initialize Pygame\n",
    "pygame.init()\n",
    "screen_height = screen_width = 800 \n",
    "screen = pygame.display.set_mode((screen_width, screen_height))\n",
    "pygame.display.set_caption(\"Star Animation\")\n",
    "\n",
    "# List to store stars\n",
    "stars = [create_star() for _ in range(MAX_STARS)]\n",
    "\n",
    "# Tests. Run to check the function\n",
    "for i in range(100):\n",
    "    star_sample = create_star()  # Call the create_star function\n",
    "    assert len(star_sample) == 4, 'The star is defined by 4 numbers'\n",
    "    assert -(screen_width // 2) <= star_sample[0] <= screen_width // 2, 'Coordinates should be in the intervals (-screen width // 2, +screen width // 2)'\n",
    "    assert -(screen_height // 2) <= star_sample[1] <= screen_height // 2, 'Coordinates should be in the intervals (-screen height // 2, +screen height // 2)'\n",
    "    assert star_sample[2] == 256, 'Z coordinate has to be equal 256'\n",
    "    assert star_sample[3] == 0, 'Start color has to be equal to 0'\n",
    "print('Seems fine, good job!')\n",
    "# Main game loop\n",
    "done = False\n",
    "while not done:\n",
    "    for event in pygame.event.get():\n",
    "        if event.type == pygame.QUIT:\n",
    "            done = True\n",
    "\n",
    "    # Fill the screen with black\n",
    "    screen.fill((0, 0, 0))\n",
    "\n",
    "    # Update and draw stars\n",
    "    for star in stars:\n",
    "        star.move()  # Move the star\n",
    "        star.draw(screen)  # Draw the star\n",
    "\n",
    "    # Update the display\n",
    "    pygame.display.flip()\n",
    "\n",
    "# Quit Pygame\n",
    "pygame.quit()"
   ]
  },
  {
   "cell_type": "markdown",
   "metadata": {},
   "source": [
    "Now let's implement the movement and verification mechanism. We need to calculate its x and y coordinates for each star at each step in accordance with the perspective (z coordinate).\n",
    "We can do this as discussed in lecture using the following formulas:\n",
    "$$X_s = \\frac{X*256}{Z} + X_c$$\n",
    "$$Y_s = \\frac{X*256}{Z} + Y_c$$\n",
    "\n",
    "$X_s$, $Y_s$ - Coordinate on screen \n",
    "\n",
    "$X_c$, $Y_c$ - Coordinate of the center of the screen \n",
    "\n",
    "Then we have to check if the star has gone off the screen. If this happens, we will remove this star from our list and generate a new star instead."
   ]
  },
  {
   "cell_type": "code",
   "execution_count": 2,
   "metadata": {},
   "outputs": [],
   "source": [
    "def move_and_check(star: list) -> list:\n",
    "    '''Move the star and check its status.'''\n",
    "    \n",
    "    # Calculate screen coordinates based on perspective\n",
    "    X_s = (star[0] * 256) / star[2] + screen_width // 2  # X coordinate on screen\n",
    "    Y_s = (star[1] * 256) / star[2] + screen_height // 2  # Y coordinate on screen\n",
    "\n",
    "    # Decrease the Z coordinate to simulate movement towards the observer\n",
    "    star[2] -= STAR_SPEED  # Change Z coordinate\n",
    "\n",
    "    # If the coordinates go beyond the screen, generate a new star\n",
    "    if Y_s > screen_height or Y_s < 0 or X_s > screen_width or X_s < 0:\n",
    "        return create_star()  # Generate a new star\n",
    "\n",
    "    # If the color has not reached maximum brightness, increase the color\n",
    "    if star[3] < 255:\n",
    "        star[3] += 0.15  # Increase brightness\n",
    "\n",
    "    # If the color exceeds 255, set it to 255\n",
    "    if star[3] > 255:\n",
    "        star[3] = 255  # Clamp the color value\n",
    "\n",
    "    return star  # Return the updated star"
   ]
  },
  {
   "cell_type": "markdown",
   "metadata": {},
   "source": [
    "To check that everything works as expected, I simulate a test run. If we don't get any errors during the run, then your code is written correctly (very likely)"
   ]
  },
  {
   "cell_type": "code",
   "execution_count": 2,
   "metadata": {},
   "outputs": [
    {
     "name": "stdout",
     "output_type": "stream",
     "text": [
      "pygame 2.6.1 (SDL 2.28.4, Python 3.11.2)\n",
      "Hello from the pygame community. https://www.pygame.org/contribute.html\n",
      "Seems good!\n"
     ]
    }
   ],
   "source": [
    "import pygame\n",
    "import random\n",
    "\n",
    "# Constants\n",
    "MAX_STARS = 50  # Maximum number of stars\n",
    "STAR_SPEED = 2   # Speed of the stars (change in coordinates per frame)\n",
    "Z_DISTANCE = 256  # Fixed distance to the star\n",
    "\n",
    "# Initialize Pygame\n",
    "pygame.init()\n",
    "screen_height = screen_width = 800\n",
    " \n",
    "screen = pygame.display.set_mode((screen_width, screen_height))\n",
    "pygame.display.set_caption(\"Star Animation\")\n",
    "\n",
    "def create_star():\n",
    "    # Generate random coordinates within the specified range\n",
    "    x = random.randint(-screen_width // 2, screen_width // 2)\n",
    "    y = random.randint(-screen_height // 2, screen_height // 2)\n",
    "    z = Z_DISTANCE  # Fixed Z distance\n",
    "    color = 0  # Initial color (brightness)\n",
    "    return [x, y, z, color]  # Return as a list\n",
    "\n",
    "def move_and_check(star: list) -> list:\n",
    "    '''Move the star and check its status.'''\n",
    "    \n",
    "    # Calculate screen coordinates based on perspective\n",
    "    X = (star[0] * 256) / star[2] + screen_width // 2  # X coordinate on screen\n",
    "    Y = (star[1] * 256) / star[2] + screen_height // 2  # Y coordinate on screen\n",
    "\n",
    "    # Decrease the Z coordinate to simulate movement towards the observer\n",
    "    star[2] -= STAR_SPEED  # Change Z coordinate\n",
    "\n",
    "    # If the coordinates go beyond the screen, generate a new star\n",
    "    if Y > screen_height or Y < 0 or X > screen_width or X < 0:\n",
    "        return create_star()  # Generate a new star\n",
    "\n",
    "    # If the color has not reached maximum brightness, increase the color\n",
    "    if star[3] < 255:\n",
    "        star[3] += 0.15  # Increase brightness\n",
    "\n",
    "    # If the color exceeds 255, set it to 255\n",
    "    if star[3] > 255:\n",
    "        star[3] = 255  # Clamp the color value\n",
    "\n",
    "    return star  # Return the updated star\n",
    "\n",
    "# Create initial stars\n",
    "stars = [create_star() for _ in range(MAX_STARS)]\n",
    "\n",
    "# Run the movement and check for 1000 iterations\n",
    "for i in range(1000):\n",
    "    for j in range(len(stars)):\n",
    "        stars[j] = move_and_check(stars[j])  # Move and check each star\n",
    "\n",
    "print('Seems good!')\n",
    "\n",
    "# Clean up Pygame\n",
    "pygame.quit()"
   ]
  },
  {
   "cell_type": "markdown",
   "metadata": {},
   "source": [
    "We are very close to implementing the basic algorithm. Now all that is needed is to build a loop within which our functions will be called and draw the stars on the screen. Let's implement a draw_star function that will display a star on the screen. The main thing is not to forget to make the reverse transition from our selected coordinate system to the window coordinate system."
   ]
  },
  {
   "cell_type": "code",
   "execution_count": 8,
   "metadata": {},
   "outputs": [],
   "source": [
    "def draw_star(star:list) -> None:\n",
    "    '''↓↓↓ YOUR CODE HERE ↓↓↓'''\n",
    "    x = (star[0] * 256) / star[2] + screen_width // 2  # X coordinate on screen\n",
    "    y = (star[1] * 256) / star[2] + screen_height // 2  # Y coordinate on screen\n",
    "    '''↑↑↑ YOUR CODE HERE ↑↑↑'''\n",
    "    pygame.draw.circle(screen, (star[3], star[3], star[3]), (x, y), 3)\n",
    "    "
   ]
  },
  {
   "cell_type": "markdown",
   "metadata": {},
   "source": [
    "Let's check how your code works using a working example. Below you need to insert functions in the right places to check that your program works exactly as planned. Follow the comments in the code, we are building the entire program from scratch!"
   ]
  },
  {
   "cell_type": "code",
   "execution_count": null,
   "metadata": {},
   "outputs": [
    {
     "ename": "AttributeError",
     "evalue": "'int' object has no attribute 'append'",
     "output_type": "error",
     "traceback": [
      "\u001b[1;31m---------------------------------------------------------------------------\u001b[0m",
      "\u001b[1;31mAttributeError\u001b[0m                            Traceback (most recent call last)",
      "Cell \u001b[1;32mIn[3], line 19\u001b[0m\n\u001b[0;32m     16\u001b[0m \u001b[38;5;124;03m'''↑↑↑ YOUR CODE HERE ↑↑↑'''\u001b[39;00m\n\u001b[0;32m     18\u001b[0m \u001b[38;5;28;01mfor\u001b[39;00m i \u001b[38;5;129;01min\u001b[39;00m \u001b[38;5;28mrange\u001b[39m(\u001b[38;5;241m0\u001b[39m, number_of_stars):\t\t\n\u001b[1;32m---> 19\u001b[0m     \u001b[43mstars\u001b[49m\u001b[38;5;241;43m.\u001b[39;49m\u001b[43mappend\u001b[49m(new_star())\n\u001b[0;32m     21\u001b[0m \u001b[38;5;28;01mwhile\u001b[39;00m \u001b[38;5;129;01mnot\u001b[39;00m done:\n\u001b[0;32m     22\u001b[0m     \u001b[38;5;28;01mfor\u001b[39;00m event \u001b[38;5;129;01min\u001b[39;00m pygame\u001b[38;5;241m.\u001b[39mevent\u001b[38;5;241m.\u001b[39mget():\n",
      "\u001b[1;31mAttributeError\u001b[0m: 'int' object has no attribute 'append'"
     ]
    },
    {
     "ename": "",
     "evalue": "",
     "output_type": "error",
     "traceback": [
      "\u001b[1;31mThe Kernel crashed while executing code in the current cell or a previous cell. \n",
      "\u001b[1;31mPlease review the code in the cell(s) to identify a possible cause of the failure. \n",
      "\u001b[1;31mClick <a href='https://aka.ms/vscodeJupyterKernelCrash'>here</a> for more info. \n",
      "\u001b[1;31mView Jupyter <a href='command:jupyter.viewOutput'>log</a> for further details."
     ]
    }
   ],
   "source": [
    "import pygame\n",
    "import random\n",
    "\n",
    "'''↓↓↓ YOUR CODE HERE ↓↓↓'''\n",
    "screen_width = screen_hight = 800\n",
    "'''↑↑↑ YOUR CODE HERE ↑↑↑'''\n",
    "\n",
    "pygame.init()\n",
    "screen = pygame.display.set_mode((screen_width, screen_hight))\n",
    "done = False\n",
    "\n",
    "'''↓↓↓ YOUR CODE HERE ↓↓↓'''\n",
    "number_of_stars = 100\n",
    "speed =\t\t2\t\n",
    "stars = 5\n",
    "'''↑↑↑ YOUR CODE HERE ↑↑↑'''\n",
    "\n",
    "for i in range(0, number_of_stars):\t\t\n",
    "    stars.append(new_star())\n",
    "\n",
    "while not done:\n",
    "    for event in pygame.event.get():\n",
    "        if event.type == pygame.QUIT:\n",
    "            done = True\n",
    "\n",
    "    screen.fill((0, 0, 0))  \n",
    "\n",
    "    for i in range(0, number_of_stars):\t\t\n",
    "        s = stars[i]\t\t\t    \t\t\n",
    "        \n",
    "        '''↓↓↓ YOUR CODE HERE ↓↓↓'''\n",
    "        # Move the star and check if it still appear\n",
    "        '''↑↑↑ YOUR CODE HERE ↑↑↑'''\n",
    "        \n",
    "        stars[i] = s\n",
    "        \n",
    "        '''↓↓↓ YOUR CODE HERE ↓↓↓'''\n",
    "        # draw the star on the screen\n",
    "        '''↑↑↑ YOUR CODE HERE ↑↑↑'''\n",
    "    \n",
    "    pygame.display.flip()\n",
    "pygame.quit()"
   ]
  },
  {
   "cell_type": "markdown",
   "metadata": {},
   "source": [
    "Finally! You are breathtaking (of course, if you managed to implement everything correctly. But even if you didn’t manage to implement it, don’t be upset, you will definitely succeed)!\n",
    "\n",
    "Now you need to try to implement some cool killer feature to add some \"zest\" to your work. Afterwards, do not forget to fill out the README.md file and submit your work for verification in the agreed manner."
   ]
  },
  {
   "cell_type": "markdown",
   "metadata": {},
   "source": []
  }
 ],
 "metadata": {
  "kernelspec": {
   "display_name": "DrakeDjkw",
   "language": "python",
   "name": "python3"
  },
  "language_info": {
   "codemirror_mode": {
    "name": "ipython",
    "version": 3
   },
   "file_extension": ".py",
   "mimetype": "text/x-python",
   "name": "python",
   "nbconvert_exporter": "python",
   "pygments_lexer": "ipython3",
   "version": "3.11.2"
  }
 },
 "nbformat": 4,
 "nbformat_minor": 2
}
